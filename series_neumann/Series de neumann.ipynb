{
 "cells": [
  {
   "cell_type": "markdown",
   "metadata": {},
   "source": [
    "## **Teorema 1**\n",
    "\n",
    "Si $A$ es una matriz $n\\times n$ tal que $\\Vert A\\Vert <1$, entonces $A^{-1}$ es inversible y\n",
    "\t$$(I-A)^{-1} = \\sum_{k=0}^{\\infty}A^{k}$$"
   ]
  },
  {
   "cell_type": "code",
   "execution_count": 16,
   "metadata": {},
   "outputs": [],
   "source": [
    "\"\"\"\n",
    "Series de neuman (con la norma del máximo)\n",
    "\n",
    "\n",
    "s: almacena A + A^1 + A^2 + ... + A^{MAX_ITERATIONS}\n",
    "\"\"\"\n",
    "\n",
    "import numpy as np\n",
    "\n",
    "def max_norm(A):\n",
    "    n = np.shape(A)[0]\n",
    "    s = sum(A[0,:])\n",
    "    for k in range(1,n):\n",
    "        if s < sum(A[k,:]):\n",
    "            s = sum(A[k,:])\n",
    "            \n",
    "    return s\n",
    "\n",
    "def neumann(A, MAX_ITERATIONS=1000):\n",
    "    if max_norm(A) < 1:\n",
    "        n = np.shape(A)[0]\n",
    "        s = np.identity(n)\n",
    "        for k in range(MAX_ITERATIONS):\n",
    "            s += A\n",
    "            A = np.dot(A, A)\n",
    "            \n",
    "        return s\n",
    "    else:\n",
    "        print(\"La matriz\\n{}\\n puede no ser inversible\".format(I-A))\n",
    "                "
   ]
  },
  {
   "cell_type": "markdown",
   "metadata": {},
   "source": [
    "**Ejercicio de Aplicación**  \n",
    "Use la se serie  de Neumann para calcular la inversa de la matriz.\n",
    "$$B = \\begin{bmatrix}\n",
    "0.9 &-0.2 &-0.3\\\\\n",
    "0.1 &1.0  &-0.1\\\\\n",
    "0.3 &0.2  &1.1\n",
    "\\end{bmatrix}$$\n",
    "Use la norma del máximo."
   ]
  },
  {
   "cell_type": "code",
   "execution_count": 17,
   "metadata": {},
   "outputs": [
    {
     "name": "stdout",
     "output_type": "stream",
     "text": [
      "B^(-1) = \n",
      "[[ 1.01217284  0.16486913  0.31756543]\n",
      " [-0.13513087  0.96486913  0.06486913]\n",
      " [-0.28243457 -0.23513087  0.81217284]]\n",
      "\n",
      "BxB^(-1) =\n",
      "[[ 0.9 -0.2 -0.3]\n",
      " [ 0.1  1.  -0.1]\n",
      " [ 0.3  0.2  1.1]]\n"
     ]
    }
   ],
   "source": [
    "\"\"\"\n",
    "Ilustración de solución:\n",
    "\n",
    "Si A = I-B, tenemos que ||A||=0.6 <1, luego (I-A)^{-1} = B^{-1} = I + A +A^2 +A^3 + ....  \n",
    "\"\"\"\n",
    "\n",
    "import numpy as np\n",
    "\n",
    "B = np.array([0.9, -0.2, -0.3, 0.1 ,1.0, -0.1, 0.3, 0.2, 1.1], dtype=np.float64).reshape(3,3)\n",
    "\n",
    "n = np.shape(B)[0]\n",
    "A = np.identity(n)-B\n",
    "\n",
    "invB = neumann(A) # inversa de B\n",
    "\n",
    "print(\"B^(-1) = \\n{}\\n\".format(invB))\n",
    "print(\"BxB^(-1) =\\n{}\".format(B, invB, np.dot(B, invB)))\n",
    "\n"
   ]
  }
 ],
 "metadata": {
  "kernelspec": {
   "display_name": "Python 3",
   "language": "python",
   "name": "python3"
  },
  "language_info": {
   "codemirror_mode": {
    "name": "ipython",
    "version": 3
   },
   "file_extension": ".py",
   "mimetype": "text/x-python",
   "name": "python",
   "nbconvert_exporter": "python",
   "pygments_lexer": "ipython3",
   "version": "3.7.1"
  }
 },
 "nbformat": 4,
 "nbformat_minor": 2
}

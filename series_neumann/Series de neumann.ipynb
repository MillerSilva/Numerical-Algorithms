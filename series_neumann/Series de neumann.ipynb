{
 "cells": [
  {
   "cell_type": "markdown",
   "metadata": {},
   "source": [
    "## **Teorema 1**\n",
    "\n",
    "Si $A$ es una matriz $n\\times n$ tal que $\\Vert A\\Vert <1$, entonces $A^{-1}$ es inversible y\n",
    "\t$$(I-A)^{-1} = \\sum_{k=0}^{\\infty}A^{k}$$"
   ]
  },
  {
   "cell_type": "code",
   "execution_count": 34,
   "metadata": {},
   "outputs": [],
   "source": [
    "\"\"\"\n",
    "Series de neuman (con la norma del máximo)\n",
    "\n",
    "\n",
    "s: almacena A + A^1 + A^2 + ... + A^{MAX_ITERATIONS}\n",
    "\"\"\"\n",
    "\n",
    "import numpy as np\n",
    "\n",
    "def max_norm(A):\n",
    "    n = np.shape(A)[0]\n",
    "    s = sum(A[0,:])\n",
    "    for k in range(1,n):\n",
    "        if s < sum(A[k,:]):\n",
    "            s = sum(A[k,:])\n",
    "            \n",
    "    return s\n",
    "\n",
    "def neumann(A, MAX_ITERATIONS=1000): # calcula la inversa de I-A\n",
    "    if max_norm(A) < 1:\n",
    "        n = np.shape(A)[0]\n",
    "        s = np.identity(n)\n",
    "        for k in range(MAX_ITERATIONS):\n",
    "            s += A\n",
    "            A = np.dot(A, A)\n",
    "            \n",
    "        return s\n",
    "    else:\n",
    "        print(\"La matriz\\n{}\\n puede no ser inversible\".format(I-A))\n",
    "        \n",
    "        \n",
    "\"\"\"\n",
    "Análisis de Error del cálculo de la inversa por el método de series de Neumann(con la norma del máximo)\n",
    "\"\"\"\n",
    "\n",
    "import scipy.linalg as sl\n",
    "\n",
    "#calcula el error cometido al aproximar (I-A)^{-1} por series de nuemann\n",
    "def error_nuemann(A, MAX_ITERATIONS=10): \n",
    "    n = np.shape(A)[0]\n",
    "    s = np.identity(n)\n",
    "    inversa = sl.inv(np.identity(n)-A) #inversa: es la inversa de I-A\n",
    "    \n",
    "    error_per_iteration = np.array([max_norm(inversa-s)])\n",
    "    \n",
    "    for i in range(MAX_ITERATIONS):\n",
    "        s += A\n",
    "        A = np.dot(A, A)\n",
    "        error_per_iteration = np.append(error_per_iteration, max_norm(inversa-s))\n",
    "    \n",
    "    return error_per_iteration\n",
    "                "
   ]
  },
  {
   "cell_type": "markdown",
   "metadata": {},
   "source": [
    "**Ejercicio de Aplicación**  \n",
    "Use la se serie  de Neumann para calcular la inversa de la matriz.\n",
    "$$B = \\begin{bmatrix}\n",
    "0.9 &-0.2 &-0.3\\\\\n",
    "0.1 &1.0  &-0.1\\\\\n",
    "0.3 &0.2  &1.1\n",
    "\\end{bmatrix}$$\n",
    "Use la norma del máximo."
   ]
  },
  {
   "cell_type": "code",
   "execution_count": 35,
   "metadata": {},
   "outputs": [
    {
     "name": "stdout",
     "output_type": "stream",
     "text": [
      "B^(-1) = \n",
      "[[ 1.01217284  0.16486913  0.31756543]\n",
      " [-0.13513087  0.96486913  0.06486913]\n",
      " [-0.28243457 -0.23513087  0.81217284]]\n",
      "\n",
      "BxB^(-1) =\n",
      "[[ 0.9 -0.2 -0.3]\n",
      " [ 0.1  1.  -0.1]\n",
      " [ 0.3  0.2  1.1]]\n"
     ]
    },
    {
     "data": {
      "text/plain": [
       "Text(0.5, 1.0, 'Error vs Número de Iteraciones')"
      ]
     },
     "execution_count": 35,
     "metadata": {},
     "output_type": "execute_result"
    },
    {
     "name": "stderr",
     "output_type": "stream",
     "text": [
      "/home/glozanoa/anaconda3/lib/python3.7/site-packages/matplotlib/axis.py:1081: UserWarning: Unable to find pixel distance along axis for interval padding of ticks; assuming no interval padding needed.\n",
      "  warnings.warn(\"Unable to find pixel distance along axis \"\n",
      "/home/glozanoa/anaconda3/lib/python3.7/site-packages/matplotlib/axis.py:1091: UserWarning: Unable to find pixel distance along axis for interval padding of ticks; assuming no interval padding needed.\n",
      "  warnings.warn(\"Unable to find pixel distance along axis \"\n"
     ]
    },
    {
     "data": {
      "image/png": "[encoded data removed]",
      "text/plain": [
       "<Figure size 432x288 with 2 Axes>"
      ]
     },
     "metadata": {
      "needs_background": "light"
     },
     "output_type": "display_data"
    }
   ],
   "source": [
    "\"\"\"\n",
    "Ilustración de solución:\n",
    "\n",
    "Si A = I-B, tenemos que ||A||=0.6 <1, luego (I-A)^{-1} = B^{-1} = I + A +A^2 +A^3 + ....  \n",
    "\"\"\"\n",
    "\n",
    "import numpy as np\n",
    "import matplotlib.pyplot as plt\n",
    "\n",
    "\n",
    "B = np.array([0.9, -0.2, -0.3, 0.1 ,1.0, -0.1, 0.3, 0.2, 1.1], dtype=np.float64).reshape(3,3)\n",
    "\n",
    "n = np.shape(B)[0]\n",
    "A = np.identity(n)-B\n",
    "\n",
    "invB = neumann(A) # inversa de B\n",
    "\n",
    "print(\"B^(-1) = \\n{}\\n\".format(invB))\n",
    "print(\"BxB^(-1) =\\n{}\".format(B, invB, np.dot(B, invB)))\n",
    "\n",
    "\n",
    "# gráfica de error de aproximación de (I-A)^{-1} vs iteración (metodo de series de neumann)\n",
    "\n",
    "error = error_nuemann(A)\n",
    "\n",
    "idn = np.identity(n)\n",
    "max_error = max_norm(sl.inv(idn-A) -idn)\n",
    "\n",
    "plt.plot(error, np.arange(1, len(error)+1))\n",
    "plt.axes([0, iterations, 0, max_error])\n",
    "plt.title(\"Error vs Número de Iteraciones\")\n",
    "\n"
   ]
  },
  {
   "cell_type": "code",
   "execution_count": null,
   "metadata": {},
   "outputs": [],
   "source": []
  }
 ],
 "metadata": {
  "kernelspec": {
   "display_name": "Python 3",
   "language": "python",
   "name": "python3"
  },
  "language_info": {
   "codemirror_mode": {
    "name": "ipython",
    "version": 3
   },
   "file_extension": ".py",
   "mimetype": "text/x-python",
   "name": "python",
   "nbconvert_exporter": "python",
   "pygments_lexer": "ipython3",
   "version": "3.7.1"
  }
 },
 "nbformat": 4,
 "nbformat_minor": 2
}
